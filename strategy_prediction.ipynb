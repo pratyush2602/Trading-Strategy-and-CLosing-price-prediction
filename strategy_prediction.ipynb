{
 "cells": [
  {
   "cell_type": "code",
   "execution_count": 3,
   "id": "acf88c3b",
   "metadata": {},
   "outputs": [],
   "source": [
    "import pandas as pd\n",
    "import numpy as np\n",
    "import matplotlib.pyplot as plt"
   ]
  },
  {
   "cell_type": "code",
   "execution_count": 4,
   "id": "b988eb6d",
   "metadata": {},
   "outputs": [
    {
     "data": {
      "text/html": [
       "<div>\n",
       "<style scoped>\n",
       "    .dataframe tbody tr th:only-of-type {\n",
       "        vertical-align: middle;\n",
       "    }\n",
       "\n",
       "    .dataframe tbody tr th {\n",
       "        vertical-align: top;\n",
       "    }\n",
       "\n",
       "    .dataframe thead th {\n",
       "        text-align: right;\n",
       "    }\n",
       "</style>\n",
       "<table border=\"1\" class=\"dataframe\">\n",
       "  <thead>\n",
       "    <tr style=\"text-align: right;\">\n",
       "      <th></th>\n",
       "      <th>timestamp</th>\n",
       "      <th>symbol</th>\n",
       "      <th>open</th>\n",
       "      <th>high</th>\n",
       "      <th>low</th>\n",
       "      <th>close</th>\n",
       "      <th>trades</th>\n",
       "      <th>volume</th>\n",
       "      <th>vwap</th>\n",
       "      <th>lastSize</th>\n",
       "      <th>turnover</th>\n",
       "      <th>homeNotional</th>\n",
       "      <th>foreignNotional</th>\n",
       "    </tr>\n",
       "  </thead>\n",
       "  <tbody>\n",
       "    <tr>\n",
       "      <th>0</th>\n",
       "      <td>2015-09-25 13:00:00+00:00</td>\n",
       "      <td>XBTUSD</td>\n",
       "      <td>239.99</td>\n",
       "      <td>239.99</td>\n",
       "      <td>237.36</td>\n",
       "      <td>237.45</td>\n",
       "      <td>10</td>\n",
       "      <td>11501</td>\n",
       "      <td>237.4180</td>\n",
       "      <td>500.0</td>\n",
       "      <td>2730544990</td>\n",
       "      <td>27.305450</td>\n",
       "      <td>6.482807e+03</td>\n",
       "    </tr>\n",
       "    <tr>\n",
       "      <th>1</th>\n",
       "      <td>2015-09-25 14:00:00+00:00</td>\n",
       "      <td>XBTUSD</td>\n",
       "      <td>237.45</td>\n",
       "      <td>237.05</td>\n",
       "      <td>236.08</td>\n",
       "      <td>236.08</td>\n",
       "      <td>6</td>\n",
       "      <td>22625</td>\n",
       "      <td>236.2420</td>\n",
       "      <td>7500.0</td>\n",
       "      <td>5344986250</td>\n",
       "      <td>53.449863</td>\n",
       "      <td>1.262713e+04</td>\n",
       "    </tr>\n",
       "    <tr>\n",
       "      <th>2</th>\n",
       "      <td>2015-09-25 15:00:00+00:00</td>\n",
       "      <td>XBTUSD</td>\n",
       "      <td>236.08</td>\n",
       "      <td>236.52</td>\n",
       "      <td>236.10</td>\n",
       "      <td>236.34</td>\n",
       "      <td>13</td>\n",
       "      <td>17434</td>\n",
       "      <td>236.2650</td>\n",
       "      <td>500.0</td>\n",
       "      <td>4119046040</td>\n",
       "      <td>41.190460</td>\n",
       "      <td>9.731871e+03</td>\n",
       "    </tr>\n",
       "    <tr>\n",
       "      <th>3</th>\n",
       "      <td>2015-09-25 16:00:00+00:00</td>\n",
       "      <td>XBTUSD</td>\n",
       "      <td>236.34</td>\n",
       "      <td>236.13</td>\n",
       "      <td>235.44</td>\n",
       "      <td>235.71</td>\n",
       "      <td>15</td>\n",
       "      <td>26900</td>\n",
       "      <td>235.7320</td>\n",
       "      <td>1500.0</td>\n",
       "      <td>6341186000</td>\n",
       "      <td>63.411860</td>\n",
       "      <td>1.494821e+04</td>\n",
       "    </tr>\n",
       "    <tr>\n",
       "      <th>4</th>\n",
       "      <td>2015-09-25 17:00:00+00:00</td>\n",
       "      <td>XBTUSD</td>\n",
       "      <td>235.71</td>\n",
       "      <td>236.01</td>\n",
       "      <td>235.46</td>\n",
       "      <td>235.75</td>\n",
       "      <td>22</td>\n",
       "      <td>29200</td>\n",
       "      <td>235.7930</td>\n",
       "      <td>1500.0</td>\n",
       "      <td>6885159000</td>\n",
       "      <td>68.851590</td>\n",
       "      <td>1.623474e+04</td>\n",
       "    </tr>\n",
       "    <tr>\n",
       "      <th>...</th>\n",
       "      <td>...</td>\n",
       "      <td>...</td>\n",
       "      <td>...</td>\n",
       "      <td>...</td>\n",
       "      <td>...</td>\n",
       "      <td>...</td>\n",
       "      <td>...</td>\n",
       "      <td>...</td>\n",
       "      <td>...</td>\n",
       "      <td>...</td>\n",
       "      <td>...</td>\n",
       "      <td>...</td>\n",
       "      <td>...</td>\n",
       "    </tr>\n",
       "    <tr>\n",
       "      <th>68534</th>\n",
       "      <td>2023-07-21 03:00:00+00:00</td>\n",
       "      <td>XBTUSD</td>\n",
       "      <td>29862.50</td>\n",
       "      <td>29934.50</td>\n",
       "      <td>29830.00</td>\n",
       "      <td>29887.00</td>\n",
       "      <td>2195</td>\n",
       "      <td>13554300</td>\n",
       "      <td>29882.5913</td>\n",
       "      <td>4400.0</td>\n",
       "      <td>45358622869</td>\n",
       "      <td>453.586229</td>\n",
       "      <td>1.355430e+07</td>\n",
       "    </tr>\n",
       "    <tr>\n",
       "      <th>68535</th>\n",
       "      <td>2023-07-21 04:00:00+00:00</td>\n",
       "      <td>XBTUSD</td>\n",
       "      <td>29887.00</td>\n",
       "      <td>29922.00</td>\n",
       "      <td>29860.50</td>\n",
       "      <td>29876.50</td>\n",
       "      <td>1419</td>\n",
       "      <td>8010700</td>\n",
       "      <td>29890.0048</td>\n",
       "      <td>14900.0</td>\n",
       "      <td>26800667793</td>\n",
       "      <td>268.006678</td>\n",
       "      <td>8.010700e+06</td>\n",
       "    </tr>\n",
       "    <tr>\n",
       "      <th>68536</th>\n",
       "      <td>2023-07-21 05:00:00+00:00</td>\n",
       "      <td>XBTUSD</td>\n",
       "      <td>29876.50</td>\n",
       "      <td>29886.00</td>\n",
       "      <td>29838.50</td>\n",
       "      <td>29842.50</td>\n",
       "      <td>906</td>\n",
       "      <td>8237800</td>\n",
       "      <td>29859.7488</td>\n",
       "      <td>32600.0</td>\n",
       "      <td>27588402307</td>\n",
       "      <td>275.884023</td>\n",
       "      <td>8.237800e+06</td>\n",
       "    </tr>\n",
       "    <tr>\n",
       "      <th>68537</th>\n",
       "      <td>2023-07-21 06:00:00+00:00</td>\n",
       "      <td>XBTUSD</td>\n",
       "      <td>29842.50</td>\n",
       "      <td>29851.50</td>\n",
       "      <td>29779.00</td>\n",
       "      <td>29809.00</td>\n",
       "      <td>884</td>\n",
       "      <td>5295700</td>\n",
       "      <td>29810.9686</td>\n",
       "      <td>3600.0</td>\n",
       "      <td>17764312384</td>\n",
       "      <td>177.643124</td>\n",
       "      <td>5.295700e+06</td>\n",
       "    </tr>\n",
       "    <tr>\n",
       "      <th>68538</th>\n",
       "      <td>2023-07-21 07:00:00+00:00</td>\n",
       "      <td>XBTUSD</td>\n",
       "      <td>29809.00</td>\n",
       "      <td>29843.50</td>\n",
       "      <td>29787.50</td>\n",
       "      <td>29839.50</td>\n",
       "      <td>982</td>\n",
       "      <td>5637500</td>\n",
       "      <td>29817.5464</td>\n",
       "      <td>20000.0</td>\n",
       "      <td>18906735675</td>\n",
       "      <td>189.067357</td>\n",
       "      <td>5.637500e+06</td>\n",
       "    </tr>\n",
       "  </tbody>\n",
       "</table>\n",
       "<p>68539 rows × 13 columns</p>\n",
       "</div>"
      ],
      "text/plain": [
       "                       timestamp  symbol      open      high       low  \\\n",
       "0      2015-09-25 13:00:00+00:00  XBTUSD    239.99    239.99    237.36   \n",
       "1      2015-09-25 14:00:00+00:00  XBTUSD    237.45    237.05    236.08   \n",
       "2      2015-09-25 15:00:00+00:00  XBTUSD    236.08    236.52    236.10   \n",
       "3      2015-09-25 16:00:00+00:00  XBTUSD    236.34    236.13    235.44   \n",
       "4      2015-09-25 17:00:00+00:00  XBTUSD    235.71    236.01    235.46   \n",
       "...                          ...     ...       ...       ...       ...   \n",
       "68534  2023-07-21 03:00:00+00:00  XBTUSD  29862.50  29934.50  29830.00   \n",
       "68535  2023-07-21 04:00:00+00:00  XBTUSD  29887.00  29922.00  29860.50   \n",
       "68536  2023-07-21 05:00:00+00:00  XBTUSD  29876.50  29886.00  29838.50   \n",
       "68537  2023-07-21 06:00:00+00:00  XBTUSD  29842.50  29851.50  29779.00   \n",
       "68538  2023-07-21 07:00:00+00:00  XBTUSD  29809.00  29843.50  29787.50   \n",
       "\n",
       "          close  trades    volume        vwap  lastSize     turnover  \\\n",
       "0        237.45      10     11501    237.4180     500.0   2730544990   \n",
       "1        236.08       6     22625    236.2420    7500.0   5344986250   \n",
       "2        236.34      13     17434    236.2650     500.0   4119046040   \n",
       "3        235.71      15     26900    235.7320    1500.0   6341186000   \n",
       "4        235.75      22     29200    235.7930    1500.0   6885159000   \n",
       "...         ...     ...       ...         ...       ...          ...   \n",
       "68534  29887.00    2195  13554300  29882.5913    4400.0  45358622869   \n",
       "68535  29876.50    1419   8010700  29890.0048   14900.0  26800667793   \n",
       "68536  29842.50     906   8237800  29859.7488   32600.0  27588402307   \n",
       "68537  29809.00     884   5295700  29810.9686    3600.0  17764312384   \n",
       "68538  29839.50     982   5637500  29817.5464   20000.0  18906735675   \n",
       "\n",
       "       homeNotional  foreignNotional  \n",
       "0         27.305450     6.482807e+03  \n",
       "1         53.449863     1.262713e+04  \n",
       "2         41.190460     9.731871e+03  \n",
       "3         63.411860     1.494821e+04  \n",
       "4         68.851590     1.623474e+04  \n",
       "...             ...              ...  \n",
       "68534    453.586229     1.355430e+07  \n",
       "68535    268.006678     8.010700e+06  \n",
       "68536    275.884023     8.237800e+06  \n",
       "68537    177.643124     5.295700e+06  \n",
       "68538    189.067357     5.637500e+06  \n",
       "\n",
       "[68539 rows x 13 columns]"
      ]
     },
     "execution_count": 4,
     "metadata": {},
     "output_type": "execute_result"
    }
   ],
   "source": [
    "df = pd.read_csv('XBTUSD-1h-data.csv')\n",
    "df"
   ]
  },
  {
   "cell_type": "code",
   "execution_count": 5,
   "id": "27ab40ed",
   "metadata": {},
   "outputs": [
    {
     "data": {
      "text/plain": [
       "68539"
      ]
     },
     "execution_count": 5,
     "metadata": {},
     "output_type": "execute_result"
    }
   ],
   "source": [
    "len(df['timestamp'])"
   ]
  },
  {
   "cell_type": "code",
   "execution_count": 6,
   "id": "ae202ccf",
   "metadata": {},
   "outputs": [
    {
     "data": {
      "text/plain": [
       "68539"
      ]
     },
     "execution_count": 6,
     "metadata": {},
     "output_type": "execute_result"
    }
   ],
   "source": [
    "Y = []\n",
    "for i in range(len(df['timestamp'])-1): \n",
    "    if df['open'][i+1]>df['open'][i]:\n",
    "        Y.append(1)\n",
    "    else: Y.append(0)\n",
    "Y.append(1)\n",
    "len(Y)"
   ]
  },
  {
   "cell_type": "code",
   "execution_count": 85,
   "id": "e2b71d9b",
   "metadata": {},
   "outputs": [],
   "source": [
    "df_ppr = df.drop(labels=['timestamp', 'symbol', 'trades', 'volume', 'vwap', 'lastSize', 'turnover', 'homeNotional', 'foreignNotional','close'], axis=1)"
   ]
  },
  {
   "cell_type": "code",
   "execution_count": 86,
   "id": "2fdce27b",
   "metadata": {
    "scrolled": true
   },
   "outputs": [
    {
     "data": {
      "text/html": [
       "<div>\n",
       "<style scoped>\n",
       "    .dataframe tbody tr th:only-of-type {\n",
       "        vertical-align: middle;\n",
       "    }\n",
       "\n",
       "    .dataframe tbody tr th {\n",
       "        vertical-align: top;\n",
       "    }\n",
       "\n",
       "    .dataframe thead th {\n",
       "        text-align: right;\n",
       "    }\n",
       "</style>\n",
       "<table border=\"1\" class=\"dataframe\">\n",
       "  <thead>\n",
       "    <tr style=\"text-align: right;\">\n",
       "      <th></th>\n",
       "      <th>open</th>\n",
       "      <th>high</th>\n",
       "      <th>low</th>\n",
       "    </tr>\n",
       "  </thead>\n",
       "  <tbody>\n",
       "    <tr>\n",
       "      <th>68534</th>\n",
       "      <td>29862.5</td>\n",
       "      <td>29934.5</td>\n",
       "      <td>29830.0</td>\n",
       "    </tr>\n",
       "    <tr>\n",
       "      <th>68535</th>\n",
       "      <td>29887.0</td>\n",
       "      <td>29922.0</td>\n",
       "      <td>29860.5</td>\n",
       "    </tr>\n",
       "    <tr>\n",
       "      <th>68536</th>\n",
       "      <td>29876.5</td>\n",
       "      <td>29886.0</td>\n",
       "      <td>29838.5</td>\n",
       "    </tr>\n",
       "    <tr>\n",
       "      <th>68537</th>\n",
       "      <td>29842.5</td>\n",
       "      <td>29851.5</td>\n",
       "      <td>29779.0</td>\n",
       "    </tr>\n",
       "    <tr>\n",
       "      <th>68538</th>\n",
       "      <td>29809.0</td>\n",
       "      <td>29843.5</td>\n",
       "      <td>29787.5</td>\n",
       "    </tr>\n",
       "  </tbody>\n",
       "</table>\n",
       "</div>"
      ],
      "text/plain": [
       "          open     high      low\n",
       "68534  29862.5  29934.5  29830.0\n",
       "68535  29887.0  29922.0  29860.5\n",
       "68536  29876.5  29886.0  29838.5\n",
       "68537  29842.5  29851.5  29779.0\n",
       "68538  29809.0  29843.5  29787.5"
      ]
     },
     "execution_count": 86,
     "metadata": {},
     "output_type": "execute_result"
    }
   ],
   "source": [
    "df_ppr.tail()"
   ]
  },
  {
   "cell_type": "code",
   "execution_count": 87,
   "id": "efc4f9e6",
   "metadata": {
    "scrolled": true
   },
   "outputs": [
    {
     "data": {
      "text/html": [
       "<div>\n",
       "<style scoped>\n",
       "    .dataframe tbody tr th:only-of-type {\n",
       "        vertical-align: middle;\n",
       "    }\n",
       "\n",
       "    .dataframe tbody tr th {\n",
       "        vertical-align: top;\n",
       "    }\n",
       "\n",
       "    .dataframe thead th {\n",
       "        text-align: right;\n",
       "    }\n",
       "</style>\n",
       "<table border=\"1\" class=\"dataframe\">\n",
       "  <thead>\n",
       "    <tr style=\"text-align: right;\">\n",
       "      <th></th>\n",
       "      <th>0</th>\n",
       "      <th>1</th>\n",
       "      <th>2</th>\n",
       "    </tr>\n",
       "  </thead>\n",
       "  <tbody>\n",
       "    <tr>\n",
       "      <th>68534</th>\n",
       "      <td>0.433034</td>\n",
       "      <td>0.430996</td>\n",
       "      <td>0.433688</td>\n",
       "    </tr>\n",
       "    <tr>\n",
       "      <th>68535</th>\n",
       "      <td>0.433392</td>\n",
       "      <td>0.430815</td>\n",
       "      <td>0.434135</td>\n",
       "    </tr>\n",
       "    <tr>\n",
       "      <th>68536</th>\n",
       "      <td>0.433238</td>\n",
       "      <td>0.430293</td>\n",
       "      <td>0.433813</td>\n",
       "    </tr>\n",
       "    <tr>\n",
       "      <th>68537</th>\n",
       "      <td>0.432742</td>\n",
       "      <td>0.429792</td>\n",
       "      <td>0.432941</td>\n",
       "    </tr>\n",
       "    <tr>\n",
       "      <th>68538</th>\n",
       "      <td>0.432252</td>\n",
       "      <td>0.429676</td>\n",
       "      <td>0.433066</td>\n",
       "    </tr>\n",
       "  </tbody>\n",
       "</table>\n",
       "</div>"
      ],
      "text/plain": [
       "              0         1         2\n",
       "68534  0.433034  0.430996  0.433688\n",
       "68535  0.433392  0.430815  0.434135\n",
       "68536  0.433238  0.430293  0.433813\n",
       "68537  0.432742  0.429792  0.432941\n",
       "68538  0.432252  0.429676  0.433066"
      ]
     },
     "execution_count": 87,
     "metadata": {},
     "output_type": "execute_result"
    }
   ],
   "source": [
    "from sklearn.preprocessing import MinMaxScaler\n",
    "scaler = MinMaxScaler()\n",
    "scaler.fit(df_ppr)\n",
    "scaled_data = scaler.transform(df_ppr)\n",
    "scaled_df = pd.DataFrame(scaled_data)\n",
    "scaled_df.tail()"
   ]
  },
  {
   "cell_type": "code",
   "execution_count": null,
   "id": "b6983555",
   "metadata": {},
   "outputs": [],
   "source": []
  },
  {
   "cell_type": "code",
   "execution_count": 88,
   "id": "e24c1931",
   "metadata": {},
   "outputs": [],
   "source": [
    "from sklearn.preprocessing import Normalizer"
   ]
  },
  {
   "cell_type": "code",
   "execution_count": 89,
   "id": "80b4b5ed",
   "metadata": {},
   "outputs": [
    {
     "data": {
      "text/html": [
       "<style>#sk-container-id-10 {color: black;background-color: white;}#sk-container-id-10 pre{padding: 0;}#sk-container-id-10 div.sk-toggleable {background-color: white;}#sk-container-id-10 label.sk-toggleable__label {cursor: pointer;display: block;width: 100%;margin-bottom: 0;padding: 0.3em;box-sizing: border-box;text-align: center;}#sk-container-id-10 label.sk-toggleable__label-arrow:before {content: \"▸\";float: left;margin-right: 0.25em;color: #696969;}#sk-container-id-10 label.sk-toggleable__label-arrow:hover:before {color: black;}#sk-container-id-10 div.sk-estimator:hover label.sk-toggleable__label-arrow:before {color: black;}#sk-container-id-10 div.sk-toggleable__content {max-height: 0;max-width: 0;overflow: hidden;text-align: left;background-color: #f0f8ff;}#sk-container-id-10 div.sk-toggleable__content pre {margin: 0.2em;color: black;border-radius: 0.25em;background-color: #f0f8ff;}#sk-container-id-10 input.sk-toggleable__control:checked~div.sk-toggleable__content {max-height: 200px;max-width: 100%;overflow: auto;}#sk-container-id-10 input.sk-toggleable__control:checked~label.sk-toggleable__label-arrow:before {content: \"▾\";}#sk-container-id-10 div.sk-estimator input.sk-toggleable__control:checked~label.sk-toggleable__label {background-color: #d4ebff;}#sk-container-id-10 div.sk-label input.sk-toggleable__control:checked~label.sk-toggleable__label {background-color: #d4ebff;}#sk-container-id-10 input.sk-hidden--visually {border: 0;clip: rect(1px 1px 1px 1px);clip: rect(1px, 1px, 1px, 1px);height: 1px;margin: -1px;overflow: hidden;padding: 0;position: absolute;width: 1px;}#sk-container-id-10 div.sk-estimator {font-family: monospace;background-color: #f0f8ff;border: 1px dotted black;border-radius: 0.25em;box-sizing: border-box;margin-bottom: 0.5em;}#sk-container-id-10 div.sk-estimator:hover {background-color: #d4ebff;}#sk-container-id-10 div.sk-parallel-item::after {content: \"\";width: 100%;border-bottom: 1px solid gray;flex-grow: 1;}#sk-container-id-10 div.sk-label:hover label.sk-toggleable__label {background-color: #d4ebff;}#sk-container-id-10 div.sk-serial::before {content: \"\";position: absolute;border-left: 1px solid gray;box-sizing: border-box;top: 0;bottom: 0;left: 50%;z-index: 0;}#sk-container-id-10 div.sk-serial {display: flex;flex-direction: column;align-items: center;background-color: white;padding-right: 0.2em;padding-left: 0.2em;position: relative;}#sk-container-id-10 div.sk-item {position: relative;z-index: 1;}#sk-container-id-10 div.sk-parallel {display: flex;align-items: stretch;justify-content: center;background-color: white;position: relative;}#sk-container-id-10 div.sk-item::before, #sk-container-id-10 div.sk-parallel-item::before {content: \"\";position: absolute;border-left: 1px solid gray;box-sizing: border-box;top: 0;bottom: 0;left: 50%;z-index: -1;}#sk-container-id-10 div.sk-parallel-item {display: flex;flex-direction: column;z-index: 1;position: relative;background-color: white;}#sk-container-id-10 div.sk-parallel-item:first-child::after {align-self: flex-end;width: 50%;}#sk-container-id-10 div.sk-parallel-item:last-child::after {align-self: flex-start;width: 50%;}#sk-container-id-10 div.sk-parallel-item:only-child::after {width: 0;}#sk-container-id-10 div.sk-dashed-wrapped {border: 1px dashed gray;margin: 0 0.4em 0.5em 0.4em;box-sizing: border-box;padding-bottom: 0.4em;background-color: white;}#sk-container-id-10 div.sk-label label {font-family: monospace;font-weight: bold;display: inline-block;line-height: 1.2em;}#sk-container-id-10 div.sk-label-container {text-align: center;}#sk-container-id-10 div.sk-container {/* jupyter's `normalize.less` sets `[hidden] { display: none; }` but bootstrap.min.css set `[hidden] { display: none !important; }` so we also need the `!important` here to be able to override the default hidden behavior on the sphinx rendered scikit-learn.org. See: https://github.com/scikit-learn/scikit-learn/issues/21755 */display: inline-block !important;position: relative;}#sk-container-id-10 div.sk-text-repr-fallback {display: none;}</style><div id=\"sk-container-id-10\" class=\"sk-top-container\"><div class=\"sk-text-repr-fallback\"><pre>Normalizer()</pre><b>In a Jupyter environment, please rerun this cell to show the HTML representation or trust the notebook. <br />On GitHub, the HTML representation is unable to render, please try loading this page with nbviewer.org.</b></div><div class=\"sk-container\" hidden><div class=\"sk-item\"><div class=\"sk-estimator sk-toggleable\"><input class=\"sk-toggleable__control sk-hidden--visually\" id=\"sk-estimator-id-10\" type=\"checkbox\" checked><label for=\"sk-estimator-id-10\" class=\"sk-toggleable__label sk-toggleable__label-arrow\">Normalizer</label><div class=\"sk-toggleable__content\"><pre>Normalizer()</pre></div></div></div></div></div>"
      ],
      "text/plain": [
       "Normalizer()"
      ]
     },
     "execution_count": 89,
     "metadata": {},
     "output_type": "execute_result"
    }
   ],
   "source": [
    "normal_scaler = Normalizer()\n",
    "normal_scaler.fit(df_ppr)"
   ]
  },
  {
   "cell_type": "code",
   "execution_count": 90,
   "id": "45758f3a",
   "metadata": {},
   "outputs": [],
   "source": [
    "normalised_df = normal_scaler.transform(df_ppr)"
   ]
  },
  {
   "cell_type": "code",
   "execution_count": 91,
   "id": "4ba94300",
   "metadata": {},
   "outputs": [],
   "source": [
    "\n",
    "normalised_df = pd.DataFrame(normalised_df)"
   ]
  },
  {
   "cell_type": "code",
   "execution_count": 92,
   "id": "431e691d",
   "metadata": {
    "scrolled": true
   },
   "outputs": [
    {
     "data": {
      "text/html": [
       "<div>\n",
       "<style scoped>\n",
       "    .dataframe tbody tr th:only-of-type {\n",
       "        vertical-align: middle;\n",
       "    }\n",
       "\n",
       "    .dataframe tbody tr th {\n",
       "        vertical-align: top;\n",
       "    }\n",
       "\n",
       "    .dataframe thead th {\n",
       "        text-align: right;\n",
       "    }\n",
       "</style>\n",
       "<table border=\"1\" class=\"dataframe\">\n",
       "  <thead>\n",
       "    <tr style=\"text-align: right;\">\n",
       "      <th></th>\n",
       "      <th>0</th>\n",
       "      <th>1</th>\n",
       "      <th>2</th>\n",
       "    </tr>\n",
       "  </thead>\n",
       "  <tbody>\n",
       "    <tr>\n",
       "      <th>68534</th>\n",
       "      <td>0.577095</td>\n",
       "      <td>0.578487</td>\n",
       "      <td>0.576467</td>\n",
       "    </tr>\n",
       "    <tr>\n",
       "      <th>68535</th>\n",
       "      <td>0.577295</td>\n",
       "      <td>0.577971</td>\n",
       "      <td>0.576783</td>\n",
       "    </tr>\n",
       "    <tr>\n",
       "      <th>68536</th>\n",
       "      <td>0.577534</td>\n",
       "      <td>0.577717</td>\n",
       "      <td>0.576799</td>\n",
       "    </tr>\n",
       "    <tr>\n",
       "      <th>68537</th>\n",
       "      <td>0.577702</td>\n",
       "      <td>0.577876</td>\n",
       "      <td>0.576472</td>\n",
       "    </tr>\n",
       "    <tr>\n",
       "      <th>68538</th>\n",
       "      <td>0.577266</td>\n",
       "      <td>0.577934</td>\n",
       "      <td>0.576850</td>\n",
       "    </tr>\n",
       "  </tbody>\n",
       "</table>\n",
       "</div>"
      ],
      "text/plain": [
       "              0         1         2\n",
       "68534  0.577095  0.578487  0.576467\n",
       "68535  0.577295  0.577971  0.576783\n",
       "68536  0.577534  0.577717  0.576799\n",
       "68537  0.577702  0.577876  0.576472\n",
       "68538  0.577266  0.577934  0.576850"
      ]
     },
     "execution_count": 92,
     "metadata": {},
     "output_type": "execute_result"
    }
   ],
   "source": [
    "normalised_df.tail()"
   ]
  },
  {
   "cell_type": "code",
   "execution_count": 93,
   "id": "2405b115",
   "metadata": {},
   "outputs": [
    {
     "data": {
      "text/plain": [
       "68539"
      ]
     },
     "execution_count": 93,
     "metadata": {},
     "output_type": "execute_result"
    }
   ],
   "source": [
    "len(normalised_df)"
   ]
  },
  {
   "cell_type": "code",
   "execution_count": 94,
   "id": "73c6ac75",
   "metadata": {},
   "outputs": [
    {
     "data": {
      "text/plain": [
       "54831"
      ]
     },
     "execution_count": 94,
     "metadata": {},
     "output_type": "execute_result"
    }
   ],
   "source": [
    "train_len = int(0.8*len(df_ppr['open']))\n",
    "train_len"
   ]
  },
  {
   "cell_type": "code",
   "execution_count": 125,
   "id": "28e8bbe4",
   "metadata": {},
   "outputs": [],
   "source": [
    "x_train = normalised_df[:train_len]\n",
    "x_test =normalised_df[train_len:]\n",
    "\n",
    "y_train = Y[:train_len]\n",
    "y_test = Y[train_len:]\n"
   ]
  },
  {
   "cell_type": "code",
   "execution_count": 126,
   "id": "863acdbc",
   "metadata": {},
   "outputs": [],
   "source": [
    "from sklearn.linear_model import LogisticRegression\n",
    "lr = LogisticRegression()"
   ]
  },
  {
   "cell_type": "code",
   "execution_count": 108,
   "id": "e63bc6f7",
   "metadata": {},
   "outputs": [
    {
     "data": {
      "text/plain": [
       "dtype('float64')"
      ]
     },
     "execution_count": 108,
     "metadata": {},
     "output_type": "execute_result"
    }
   ],
   "source": [
    "df_ppr['open'].dtype"
   ]
  },
  {
   "cell_type": "code",
   "execution_count": 127,
   "id": "7ec4eeee",
   "metadata": {},
   "outputs": [
    {
     "data": {
      "text/html": [
       "<style>#sk-container-id-16 {color: black;background-color: white;}#sk-container-id-16 pre{padding: 0;}#sk-container-id-16 div.sk-toggleable {background-color: white;}#sk-container-id-16 label.sk-toggleable__label {cursor: pointer;display: block;width: 100%;margin-bottom: 0;padding: 0.3em;box-sizing: border-box;text-align: center;}#sk-container-id-16 label.sk-toggleable__label-arrow:before {content: \"▸\";float: left;margin-right: 0.25em;color: #696969;}#sk-container-id-16 label.sk-toggleable__label-arrow:hover:before {color: black;}#sk-container-id-16 div.sk-estimator:hover label.sk-toggleable__label-arrow:before {color: black;}#sk-container-id-16 div.sk-toggleable__content {max-height: 0;max-width: 0;overflow: hidden;text-align: left;background-color: #f0f8ff;}#sk-container-id-16 div.sk-toggleable__content pre {margin: 0.2em;color: black;border-radius: 0.25em;background-color: #f0f8ff;}#sk-container-id-16 input.sk-toggleable__control:checked~div.sk-toggleable__content {max-height: 200px;max-width: 100%;overflow: auto;}#sk-container-id-16 input.sk-toggleable__control:checked~label.sk-toggleable__label-arrow:before {content: \"▾\";}#sk-container-id-16 div.sk-estimator input.sk-toggleable__control:checked~label.sk-toggleable__label {background-color: #d4ebff;}#sk-container-id-16 div.sk-label input.sk-toggleable__control:checked~label.sk-toggleable__label {background-color: #d4ebff;}#sk-container-id-16 input.sk-hidden--visually {border: 0;clip: rect(1px 1px 1px 1px);clip: rect(1px, 1px, 1px, 1px);height: 1px;margin: -1px;overflow: hidden;padding: 0;position: absolute;width: 1px;}#sk-container-id-16 div.sk-estimator {font-family: monospace;background-color: #f0f8ff;border: 1px dotted black;border-radius: 0.25em;box-sizing: border-box;margin-bottom: 0.5em;}#sk-container-id-16 div.sk-estimator:hover {background-color: #d4ebff;}#sk-container-id-16 div.sk-parallel-item::after {content: \"\";width: 100%;border-bottom: 1px solid gray;flex-grow: 1;}#sk-container-id-16 div.sk-label:hover label.sk-toggleable__label {background-color: #d4ebff;}#sk-container-id-16 div.sk-serial::before {content: \"\";position: absolute;border-left: 1px solid gray;box-sizing: border-box;top: 0;bottom: 0;left: 50%;z-index: 0;}#sk-container-id-16 div.sk-serial {display: flex;flex-direction: column;align-items: center;background-color: white;padding-right: 0.2em;padding-left: 0.2em;position: relative;}#sk-container-id-16 div.sk-item {position: relative;z-index: 1;}#sk-container-id-16 div.sk-parallel {display: flex;align-items: stretch;justify-content: center;background-color: white;position: relative;}#sk-container-id-16 div.sk-item::before, #sk-container-id-16 div.sk-parallel-item::before {content: \"\";position: absolute;border-left: 1px solid gray;box-sizing: border-box;top: 0;bottom: 0;left: 50%;z-index: -1;}#sk-container-id-16 div.sk-parallel-item {display: flex;flex-direction: column;z-index: 1;position: relative;background-color: white;}#sk-container-id-16 div.sk-parallel-item:first-child::after {align-self: flex-end;width: 50%;}#sk-container-id-16 div.sk-parallel-item:last-child::after {align-self: flex-start;width: 50%;}#sk-container-id-16 div.sk-parallel-item:only-child::after {width: 0;}#sk-container-id-16 div.sk-dashed-wrapped {border: 1px dashed gray;margin: 0 0.4em 0.5em 0.4em;box-sizing: border-box;padding-bottom: 0.4em;background-color: white;}#sk-container-id-16 div.sk-label label {font-family: monospace;font-weight: bold;display: inline-block;line-height: 1.2em;}#sk-container-id-16 div.sk-label-container {text-align: center;}#sk-container-id-16 div.sk-container {/* jupyter's `normalize.less` sets `[hidden] { display: none; }` but bootstrap.min.css set `[hidden] { display: none !important; }` so we also need the `!important` here to be able to override the default hidden behavior on the sphinx rendered scikit-learn.org. See: https://github.com/scikit-learn/scikit-learn/issues/21755 */display: inline-block !important;position: relative;}#sk-container-id-16 div.sk-text-repr-fallback {display: none;}</style><div id=\"sk-container-id-16\" class=\"sk-top-container\"><div class=\"sk-text-repr-fallback\"><pre>LogisticRegression()</pre><b>In a Jupyter environment, please rerun this cell to show the HTML representation or trust the notebook. <br />On GitHub, the HTML representation is unable to render, please try loading this page with nbviewer.org.</b></div><div class=\"sk-container\" hidden><div class=\"sk-item\"><div class=\"sk-estimator sk-toggleable\"><input class=\"sk-toggleable__control sk-hidden--visually\" id=\"sk-estimator-id-16\" type=\"checkbox\" checked><label for=\"sk-estimator-id-16\" class=\"sk-toggleable__label sk-toggleable__label-arrow\">LogisticRegression</label><div class=\"sk-toggleable__content\"><pre>LogisticRegression()</pre></div></div></div></div></div>"
      ],
      "text/plain": [
       "LogisticRegression()"
      ]
     },
     "execution_count": 127,
     "metadata": {},
     "output_type": "execute_result"
    }
   ],
   "source": [
    "lr.fit(x_train,y_train)"
   ]
  },
  {
   "cell_type": "code",
   "execution_count": 128,
   "id": "39619280",
   "metadata": {},
   "outputs": [],
   "source": [
    "y_pred = lr.predict(x_test)"
   ]
  },
  {
   "cell_type": "code",
   "execution_count": 129,
   "id": "a5166872",
   "metadata": {},
   "outputs": [
    {
     "data": {
      "text/plain": [
       "array([1, 1, 1, ..., 1, 1, 1])"
      ]
     },
     "execution_count": 129,
     "metadata": {},
     "output_type": "execute_result"
    }
   ],
   "source": [
    "y_pred"
   ]
  },
  {
   "cell_type": "code",
   "execution_count": 99,
   "id": "7071e926",
   "metadata": {},
   "outputs": [
    {
     "name": "stdout",
     "output_type": "stream",
     "text": [
      "Requirement already satisfied: xgboost in c:\\users\\praty\\appdata\\local\\programs\\python\\python310\\lib\\site-packages (1.7.6)\n",
      "Requirement already satisfied: scipy in c:\\users\\praty\\appdata\\local\\programs\\python\\python310\\lib\\site-packages (from xgboost) (1.7.3)\n",
      "Requirement already satisfied: numpy in c:\\users\\praty\\appdata\\local\\programs\\python\\python310\\lib\\site-packages (from xgboost) (1.22.4)\n"
     ]
    },
    {
     "name": "stderr",
     "output_type": "stream",
     "text": [
      "WARNING: You are using pip version 22.0.4; however, version 23.2 is available.\n",
      "You should consider upgrading via the 'C:\\Users\\praty\\AppData\\Local\\Programs\\Python\\Python310\\python.exe -m pip install --upgrade pip' command.\n"
     ]
    }
   ],
   "source": [
    "!pip install xgboost"
   ]
  },
  {
   "cell_type": "code",
   "execution_count": 131,
   "id": "1cfea35b",
   "metadata": {},
   "outputs": [],
   "source": [
    "from xgboost import XGBClassifier"
   ]
  },
  {
   "cell_type": "code",
   "execution_count": 132,
   "id": "38bfe19e",
   "metadata": {},
   "outputs": [
    {
     "data": {
      "text/html": [
       "<style>#sk-container-id-17 {color: black;background-color: white;}#sk-container-id-17 pre{padding: 0;}#sk-container-id-17 div.sk-toggleable {background-color: white;}#sk-container-id-17 label.sk-toggleable__label {cursor: pointer;display: block;width: 100%;margin-bottom: 0;padding: 0.3em;box-sizing: border-box;text-align: center;}#sk-container-id-17 label.sk-toggleable__label-arrow:before {content: \"▸\";float: left;margin-right: 0.25em;color: #696969;}#sk-container-id-17 label.sk-toggleable__label-arrow:hover:before {color: black;}#sk-container-id-17 div.sk-estimator:hover label.sk-toggleable__label-arrow:before {color: black;}#sk-container-id-17 div.sk-toggleable__content {max-height: 0;max-width: 0;overflow: hidden;text-align: left;background-color: #f0f8ff;}#sk-container-id-17 div.sk-toggleable__content pre {margin: 0.2em;color: black;border-radius: 0.25em;background-color: #f0f8ff;}#sk-container-id-17 input.sk-toggleable__control:checked~div.sk-toggleable__content {max-height: 200px;max-width: 100%;overflow: auto;}#sk-container-id-17 input.sk-toggleable__control:checked~label.sk-toggleable__label-arrow:before {content: \"▾\";}#sk-container-id-17 div.sk-estimator input.sk-toggleable__control:checked~label.sk-toggleable__label {background-color: #d4ebff;}#sk-container-id-17 div.sk-label input.sk-toggleable__control:checked~label.sk-toggleable__label {background-color: #d4ebff;}#sk-container-id-17 input.sk-hidden--visually {border: 0;clip: rect(1px 1px 1px 1px);clip: rect(1px, 1px, 1px, 1px);height: 1px;margin: -1px;overflow: hidden;padding: 0;position: absolute;width: 1px;}#sk-container-id-17 div.sk-estimator {font-family: monospace;background-color: #f0f8ff;border: 1px dotted black;border-radius: 0.25em;box-sizing: border-box;margin-bottom: 0.5em;}#sk-container-id-17 div.sk-estimator:hover {background-color: #d4ebff;}#sk-container-id-17 div.sk-parallel-item::after {content: \"\";width: 100%;border-bottom: 1px solid gray;flex-grow: 1;}#sk-container-id-17 div.sk-label:hover label.sk-toggleable__label {background-color: #d4ebff;}#sk-container-id-17 div.sk-serial::before {content: \"\";position: absolute;border-left: 1px solid gray;box-sizing: border-box;top: 0;bottom: 0;left: 50%;z-index: 0;}#sk-container-id-17 div.sk-serial {display: flex;flex-direction: column;align-items: center;background-color: white;padding-right: 0.2em;padding-left: 0.2em;position: relative;}#sk-container-id-17 div.sk-item {position: relative;z-index: 1;}#sk-container-id-17 div.sk-parallel {display: flex;align-items: stretch;justify-content: center;background-color: white;position: relative;}#sk-container-id-17 div.sk-item::before, #sk-container-id-17 div.sk-parallel-item::before {content: \"\";position: absolute;border-left: 1px solid gray;box-sizing: border-box;top: 0;bottom: 0;left: 50%;z-index: -1;}#sk-container-id-17 div.sk-parallel-item {display: flex;flex-direction: column;z-index: 1;position: relative;background-color: white;}#sk-container-id-17 div.sk-parallel-item:first-child::after {align-self: flex-end;width: 50%;}#sk-container-id-17 div.sk-parallel-item:last-child::after {align-self: flex-start;width: 50%;}#sk-container-id-17 div.sk-parallel-item:only-child::after {width: 0;}#sk-container-id-17 div.sk-dashed-wrapped {border: 1px dashed gray;margin: 0 0.4em 0.5em 0.4em;box-sizing: border-box;padding-bottom: 0.4em;background-color: white;}#sk-container-id-17 div.sk-label label {font-family: monospace;font-weight: bold;display: inline-block;line-height: 1.2em;}#sk-container-id-17 div.sk-label-container {text-align: center;}#sk-container-id-17 div.sk-container {/* jupyter's `normalize.less` sets `[hidden] { display: none; }` but bootstrap.min.css set `[hidden] { display: none !important; }` so we also need the `!important` here to be able to override the default hidden behavior on the sphinx rendered scikit-learn.org. See: https://github.com/scikit-learn/scikit-learn/issues/21755 */display: inline-block !important;position: relative;}#sk-container-id-17 div.sk-text-repr-fallback {display: none;}</style><div id=\"sk-container-id-17\" class=\"sk-top-container\"><div class=\"sk-text-repr-fallback\"><pre>XGBClassifier(base_score=None, booster=None, callbacks=None,\n",
       "              colsample_bylevel=None, colsample_bynode=None,\n",
       "              colsample_bytree=None, early_stopping_rounds=None,\n",
       "              enable_categorical=False, eval_metric=None, feature_types=None,\n",
       "              gamma=None, gpu_id=None, grow_policy=None, importance_type=None,\n",
       "              interaction_constraints=None, learning_rate=None, max_bin=None,\n",
       "              max_cat_threshold=None, max_cat_to_onehot=None,\n",
       "              max_delta_step=None, max_depth=None, max_leaves=None,\n",
       "              min_child_weight=None, missing=nan, monotone_constraints=None,\n",
       "              n_estimators=100, n_jobs=None, num_parallel_tree=None,\n",
       "              predictor=None, random_state=None, ...)</pre><b>In a Jupyter environment, please rerun this cell to show the HTML representation or trust the notebook. <br />On GitHub, the HTML representation is unable to render, please try loading this page with nbviewer.org.</b></div><div class=\"sk-container\" hidden><div class=\"sk-item\"><div class=\"sk-estimator sk-toggleable\"><input class=\"sk-toggleable__control sk-hidden--visually\" id=\"sk-estimator-id-17\" type=\"checkbox\" checked><label for=\"sk-estimator-id-17\" class=\"sk-toggleable__label sk-toggleable__label-arrow\">XGBClassifier</label><div class=\"sk-toggleable__content\"><pre>XGBClassifier(base_score=None, booster=None, callbacks=None,\n",
       "              colsample_bylevel=None, colsample_bynode=None,\n",
       "              colsample_bytree=None, early_stopping_rounds=None,\n",
       "              enable_categorical=False, eval_metric=None, feature_types=None,\n",
       "              gamma=None, gpu_id=None, grow_policy=None, importance_type=None,\n",
       "              interaction_constraints=None, learning_rate=None, max_bin=None,\n",
       "              max_cat_threshold=None, max_cat_to_onehot=None,\n",
       "              max_delta_step=None, max_depth=None, max_leaves=None,\n",
       "              min_child_weight=None, missing=nan, monotone_constraints=None,\n",
       "              n_estimators=100, n_jobs=None, num_parallel_tree=None,\n",
       "              predictor=None, random_state=None, ...)</pre></div></div></div></div></div>"
      ],
      "text/plain": [
       "XGBClassifier(base_score=None, booster=None, callbacks=None,\n",
       "              colsample_bylevel=None, colsample_bynode=None,\n",
       "              colsample_bytree=None, early_stopping_rounds=None,\n",
       "              enable_categorical=False, eval_metric=None, feature_types=None,\n",
       "              gamma=None, gpu_id=None, grow_policy=None, importance_type=None,\n",
       "              interaction_constraints=None, learning_rate=None, max_bin=None,\n",
       "              max_cat_threshold=None, max_cat_to_onehot=None,\n",
       "              max_delta_step=None, max_depth=None, max_leaves=None,\n",
       "              min_child_weight=None, missing=nan, monotone_constraints=None,\n",
       "              n_estimators=100, n_jobs=None, num_parallel_tree=None,\n",
       "              predictor=None, random_state=None, ...)"
      ]
     },
     "execution_count": 132,
     "metadata": {},
     "output_type": "execute_result"
    }
   ],
   "source": [
    "model = XGBClassifier()\n",
    "model.fit(x_train, y_train)"
   ]
  },
  {
   "cell_type": "code",
   "execution_count": 133,
   "id": "ce171fbd",
   "metadata": {},
   "outputs": [],
   "source": [
    "y_pred = model.predict(x_test)"
   ]
  },
  {
   "cell_type": "code",
   "execution_count": 134,
   "id": "6c6784ac",
   "metadata": {},
   "outputs": [
    {
     "data": {
      "text/plain": [
       "array([1, 0, 0, ..., 0, 0, 1])"
      ]
     },
     "execution_count": 134,
     "metadata": {},
     "output_type": "execute_result"
    }
   ],
   "source": [
    "y_pred"
   ]
  },
  {
   "cell_type": "code",
   "execution_count": 135,
   "id": "2428271a",
   "metadata": {},
   "outputs": [],
   "source": [
    "from sklearn.metrics import accuracy_score"
   ]
  },
  {
   "cell_type": "code",
   "execution_count": 136,
   "id": "e0d5bae6",
   "metadata": {},
   "outputs": [
    {
     "name": "stdout",
     "output_type": "stream",
     "text": [
      "Accuracy: 83.14%\n"
     ]
    }
   ],
   "source": [
    "predictions = [round(value) for value in y_pred]\n",
    "# evaluate predictions\n",
    "accuracy = accuracy_score(y_test, predictions)\n",
    "print(\"Accuracy: %.2f%%\" % (accuracy * 100.0))"
   ]
  },
  {
   "cell_type": "code",
   "execution_count": null,
   "id": "6aa8f792",
   "metadata": {},
   "outputs": [],
   "source": []
  }
 ],
 "metadata": {
  "kernelspec": {
   "display_name": "Python 3 (ipykernel)",
   "language": "python",
   "name": "python3"
  },
  "language_info": {
   "codemirror_mode": {
    "name": "ipython",
    "version": 3
   },
   "file_extension": ".py",
   "mimetype": "text/x-python",
   "name": "python",
   "nbconvert_exporter": "python",
   "pygments_lexer": "ipython3",
   "version": "3.10.5"
  }
 },
 "nbformat": 4,
 "nbformat_minor": 5
}
