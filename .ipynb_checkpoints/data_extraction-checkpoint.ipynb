{
 "cells": [
  {
   "cell_type": "code",
   "execution_count": 1,
   "id": "54b38da3",
   "metadata": {},
   "outputs": [
    {
     "name": "stdout",
     "output_type": "stream",
     "text": [
      "Requirement already satisfied: bitmex in c:\\users\\praty\\appdata\\local\\programs\\python\\python310\\lib\\site-packages (0.2.2)\n",
      "Requirement already satisfied: bravado in c:\\users\\praty\\appdata\\local\\programs\\python\\python310\\lib\\site-packages (from bitmex) (11.0.3)\n",
      "Requirement already satisfied: monotonic in c:\\users\\praty\\appdata\\local\\programs\\python\\python310\\lib\\site-packages (from bravado->bitmex) (1.6)\n",
      "Requirement already satisfied: pyyaml in c:\\users\\praty\\appdata\\local\\programs\\python\\python310\\lib\\site-packages (from bravado->bitmex) (6.0.1)\n",
      "Requirement already satisfied: simplejson in c:\\users\\praty\\appdata\\local\\programs\\python\\python310\\lib\\site-packages (from bravado->bitmex) (3.19.1)\n",
      "Requirement already satisfied: bravado-core>=5.16.1 in c:\\users\\praty\\appdata\\local\\programs\\python\\python310\\lib\\site-packages (from bravado->bitmex) (6.1.0)\n",
      "Requirement already satisfied: msgpack in c:\\users\\praty\\appdata\\local\\programs\\python\\python310\\lib\\site-packages (from bravado->bitmex) (1.0.5)\n",
      "Requirement already satisfied: six in c:\\users\\praty\\appdata\\local\\programs\\python\\python310\\lib\\site-packages (from bravado->bitmex) (1.16.0)\n",
      "Requirement already satisfied: python-dateutil in c:\\users\\praty\\appdata\\local\\programs\\python\\python310\\lib\\site-packages (from bravado->bitmex) (2.8.2)\n",
      "Requirement already satisfied: requests>=2.17 in c:\\users\\praty\\appdata\\local\\programs\\python\\python310\\lib\\site-packages (from bravado->bitmex) (2.28.2)\n",
      "Requirement already satisfied: typing-extensions in c:\\users\\praty\\appdata\\local\\programs\\python\\python310\\lib\\site-packages (from bravado->bitmex) (4.4.0)\n",
      "Requirement already satisfied: jsonref in c:\\users\\praty\\appdata\\local\\programs\\python\\python310\\lib\\site-packages (from bravado-core>=5.16.1->bravado->bitmex) (1.1.0)\n",
      "Requirement already satisfied: pytz in c:\\users\\praty\\appdata\\local\\programs\\python\\python310\\lib\\site-packages (from bravado-core>=5.16.1->bravado->bitmex) (2022.1)\n",
      "Requirement already satisfied: jsonschema[format]>=2.5.1 in c:\\users\\praty\\appdata\\local\\programs\\python\\python310\\lib\\site-packages (from bravado-core>=5.16.1->bravado->bitmex) (4.7.2)\n",
      "Requirement already satisfied: swagger-spec-validator>=2.0.1 in c:\\users\\praty\\appdata\\local\\programs\\python\\python310\\lib\\site-packages (from bravado-core>=5.16.1->bravado->bitmex) (3.0.3)\n",
      "Requirement already satisfied: urllib3<1.27,>=1.21.1 in c:\\users\\praty\\appdata\\local\\programs\\python\\python310\\lib\\site-packages (from requests>=2.17->bravado->bitmex) (1.26.13)\n",
      "Requirement already satisfied: certifi>=2017.4.17 in c:\\users\\praty\\appdata\\local\\programs\\python\\python310\\lib\\site-packages (from requests>=2.17->bravado->bitmex) (2022.12.7)\n",
      "Requirement already satisfied: idna<4,>=2.5 in c:\\users\\praty\\appdata\\local\\programs\\python\\python310\\lib\\site-packages (from requests>=2.17->bravado->bitmex) (3.4)\n",
      "Requirement already satisfied: charset-normalizer<4,>=2 in c:\\users\\praty\\appdata\\local\\programs\\python\\python310\\lib\\site-packages (from requests>=2.17->bravado->bitmex) (3.0.1)\n",
      "Requirement already satisfied: attrs>=17.4.0 in c:\\users\\praty\\appdata\\local\\programs\\python\\python310\\lib\\site-packages (from jsonschema[format]>=2.5.1->bravado-core>=5.16.1->bravado->bitmex) (21.4.0)\n",
      "Requirement already satisfied: pyrsistent!=0.17.0,!=0.17.1,!=0.17.2,>=0.14.0 in c:\\users\\praty\\appdata\\local\\programs\\python\\python310\\lib\\site-packages (from jsonschema[format]>=2.5.1->bravado-core>=5.16.1->bravado->bitmex) (0.18.1)\n",
      "Requirement already satisfied: isoduration in c:\\users\\praty\\appdata\\local\\programs\\python\\python310\\lib\\site-packages (from jsonschema[format]>=2.5.1->bravado-core>=5.16.1->bravado->bitmex) (20.11.0)\n",
      "Requirement already satisfied: uri-template in c:\\users\\praty\\appdata\\local\\programs\\python\\python310\\lib\\site-packages (from jsonschema[format]>=2.5.1->bravado-core>=5.16.1->bravado->bitmex) (1.3.0)\n",
      "Requirement already satisfied: rfc3339-validator in c:\\users\\praty\\appdata\\local\\programs\\python\\python310\\lib\\site-packages (from jsonschema[format]>=2.5.1->bravado-core>=5.16.1->bravado->bitmex) (0.1.4)\n",
      "Requirement already satisfied: webcolors>=1.11 in c:\\users\\praty\\appdata\\local\\programs\\python\\python310\\lib\\site-packages (from jsonschema[format]>=2.5.1->bravado-core>=5.16.1->bravado->bitmex) (1.13)\n",
      "Requirement already satisfied: jsonpointer>1.13 in c:\\users\\praty\\appdata\\local\\programs\\python\\python310\\lib\\site-packages (from jsonschema[format]>=2.5.1->bravado-core>=5.16.1->bravado->bitmex) (2.4)\n",
      "Requirement already satisfied: rfc3987 in c:\\users\\praty\\appdata\\local\\programs\\python\\python310\\lib\\site-packages (from jsonschema[format]>=2.5.1->bravado-core>=5.16.1->bravado->bitmex) (1.3.8)\n",
      "Requirement already satisfied: fqdn in c:\\users\\praty\\appdata\\local\\programs\\python\\python310\\lib\\site-packages (from jsonschema[format]>=2.5.1->bravado-core>=5.16.1->bravado->bitmex) (1.5.1)\n",
      "Requirement already satisfied: arrow>=0.15.0 in c:\\users\\praty\\appdata\\local\\programs\\python\\python310\\lib\\site-packages (from isoduration->jsonschema[format]>=2.5.1->bravado-core>=5.16.1->bravado->bitmex) (1.2.3)\n"
     ]
    },
    {
     "name": "stderr",
     "output_type": "stream",
     "text": [
      "WARNING: You are using pip version 22.0.4; however, version 23.2 is available.\n",
      "You should consider upgrading via the 'C:\\Users\\praty\\AppData\\Local\\Programs\\Python\\Python310\\python.exe -m pip install --upgrade pip' command.\n"
     ]
    }
   ],
   "source": [
    "!pip install bitmex\n"
   ]
  },
  {
   "cell_type": "code",
   "execution_count": 2,
   "id": "bc34da9f",
   "metadata": {},
   "outputs": [],
   "source": [
    "from bitmex import bitmex\n",
    "import pandas as pd\n",
    "import numpy as np\n",
    "import os.path\n",
    "import time\n",
    "from datetime import timedelta, datetime\n",
    "from dateutil import parser\n",
    "from tqdm import tqdm_notebook"
   ]
  },
  {
   "cell_type": "code",
   "execution_count": 3,
   "id": "88017fb1",
   "metadata": {},
   "outputs": [
    {
     "name": "stdout",
     "output_type": "stream",
     "text": [
      "exists\n"
     ]
    }
   ],
   "source": [
    "file =\"myfile.txt\"\n",
    "if os.path.exists(file):\n",
    "    print(\"exists\")\n",
    "else:\n",
    "    print(\"does not exist\")"
   ]
  },
  {
   "cell_type": "code",
   "execution_count": 4,
   "id": "fcdbde81",
   "metadata": {},
   "outputs": [],
   "source": [
    "ID = 'PoAIXQkkbCZ1uOPpXrBcC_Z1'\n",
    "secret = 'C8uZ5cvUK-ZUnEJJeawhTry6KaWDgz9AvTQ8AccFeQwHOmhh'\n",
    "\n",
    "symbol = \"XBTUSD\"\n",
    "kline_size = \"1h\""
   ]
  },
  {
   "cell_type": "code",
   "execution_count": 5,
   "id": "a3e16fa7",
   "metadata": {},
   "outputs": [
    {
     "name": "stderr",
     "output_type": "stream",
     "text": [
      "C:\\Users\\praty\\AppData\\Local\\Programs\\Python\\Python310\\lib\\site-packages\\swagger_spec_validator\\validator20.py:49: SwaggerValidationWarning: Found \"$ref: #/definitions/UserPreferences\" with siblings that will be overwritten. See https://stackoverflow.com/a/48114924 for more information. (path #/definitions/User/properties/preferences)\n",
      "  warnings.warn(\n"
     ]
    }
   ],
   "source": [
    "client = bitmex(test=False, api_key=ID, api_secret=secret)"
   ]
  },
  {
   "cell_type": "code",
   "execution_count": null,
   "id": "beb3a77f",
   "metadata": {},
   "outputs": [],
   "source": []
  },
  {
   "cell_type": "code",
   "execution_count": null,
   "id": "ecd0b2ca",
   "metadata": {},
   "outputs": [],
   "source": []
  },
  {
   "cell_type": "code",
   "execution_count": null,
   "id": "dfe883b3",
   "metadata": {},
   "outputs": [],
   "source": []
  },
  {
   "cell_type": "code",
   "execution_count": null,
   "id": "9afb1a3f",
   "metadata": {},
   "outputs": [],
   "source": []
  },
  {
   "cell_type": "code",
   "execution_count": null,
   "id": "18e19c97",
   "metadata": {},
   "outputs": [],
   "source": []
  },
  {
   "cell_type": "code",
   "execution_count": 6,
   "id": "84252238",
   "metadata": {},
   "outputs": [],
   "source": [
    "bin_length = {\"1m\": 1, \"15m\": 15, \"30m\": 30, \"1h\": 60}\n",
    "batch_size = 750"
   ]
  },
  {
   "cell_type": "code",
   "execution_count": 7,
   "id": "b494f2dd",
   "metadata": {},
   "outputs": [],
   "source": [
    "def update(symbol, kline_size, data):\n",
    "    if len(data)!=0:  old = parser.parse(data[\"timestamp\"].iloc[-1])\n",
    "    old = client.Trade.Trade_getBucketed(symbol=symbol, binSize=kline_size, count=1, reverse=False).result()[0][0]['timestamp']\n",
    "    new = client.Trade.Trade_getBucketed(symbol=symbol, binSize=kline_size, count=1, reverse=True).result()[0][0]['timestamp']\n",
    "    return old, new"
   ]
  },
  {
   "cell_type": "code",
   "execution_count": 8,
   "id": "d81b1e62",
   "metadata": {},
   "outputs": [],
   "source": [
    "def fetch(symbol, kline_size, save = False):\n",
    "    filename = '%s-%s-data.csv' % (symbol, kline_size)\n",
    "    if os.path.isfile(filename): data1 = pd.read_csv(filename)\n",
    "    else: data1 = pd.DataFrame()\n",
    "    oldest_point, newest_point = update(symbol, kline_size, data1)\n",
    "    delta_min = (newest_point - oldest_point).total_seconds()/60\n",
    "    available_data = math.ceil(delta_min/bin_length[kline_size])\n",
    "    rounds = math.ceil(available_data / batch_size)\n",
    "    if rounds>0:\n",
    "        print('Downloading %d minutes of new data available for %s, i.e. %d instances of %s data in %d rounds.' % (delta_min, symbol, available_data, kline_size, rounds))\n",
    "        for round_num in tqdm_notebook(range(rounds)):\n",
    "            time.sleep(1)\n",
    "            new_time = (oldest_point + timedelta(minutes = round_num * batch_size * bin_length[kline_size]))\n",
    "            data = client.Trade.Trade_getBucketed(symbol=symbol, binSize=kline_size, count=batch_size, startTime = new_time).result()[0]\n",
    "            temp_df = pd.DataFrame(data)\n",
    "            data1 = data1.append(temp_df)\n",
    "    data1.set_index('timestamp', inplace=True)\n",
    "    if save and rounds > 0: data1.to_csv(filename)\n",
    "    print('Done')\n",
    "    return data1"
   ]
  },
  {
   "cell_type": "code",
   "execution_count": 10,
   "id": "99af4768",
   "metadata": {},
   "outputs": [],
   "source": [
    "import math"
   ]
  },
  {
   "cell_type": "code",
   "execution_count": 11,
   "id": "b95af534",
   "metadata": {},
   "outputs": [
    {
     "name": "stdout",
     "output_type": "stream",
     "text": [
      "Downloading 4111200 minutes of new data available for XBTUSD, i.e. 68520 instances of 1h data in 92 rounds.\n"
     ]
    },
    {
     "name": "stderr",
     "output_type": "stream",
     "text": [
      "C:\\Users\\praty\\AppData\\Local\\Temp\\ipykernel_14384\\3786811289.py:11: TqdmDeprecationWarning: This function will be removed in tqdm==5.0.0\n",
      "Please use `tqdm.notebook.tqdm` instead of `tqdm.tqdm_notebook`\n",
      "  for round_num in tqdm_notebook(range(rounds)):\n"
     ]
    },
    {
     "data": {
      "application/vnd.jupyter.widget-view+json": {
       "model_id": "81ad4cdbd3274ce197babd057c9c4817",
       "version_major": 2,
       "version_minor": 0
      },
      "text/plain": [
       "  0%|          | 0/92 [00:00<?, ?it/s]"
      ]
     },
     "metadata": {},
     "output_type": "display_data"
    },
    {
     "name": "stderr",
     "output_type": "stream",
     "text": [
      "C:\\Users\\praty\\AppData\\Local\\Temp\\ipykernel_14384\\3786811289.py:16: FutureWarning: The frame.append method is deprecated and will be removed from pandas in a future version. Use pandas.concat instead.\n",
      "  data1 = data1.append(temp_df)\n",
      "C:\\Users\\praty\\AppData\\Local\\Temp\\ipykernel_14384\\3786811289.py:16: FutureWarning: The frame.append method is deprecated and will be removed from pandas in a future version. Use pandas.concat instead.\n",
      "  data1 = data1.append(temp_df)\n",
      "C:\\Users\\praty\\AppData\\Local\\Temp\\ipykernel_14384\\3786811289.py:16: FutureWarning: The frame.append method is deprecated and will be removed from pandas in a future version. Use pandas.concat instead.\n",
      "  data1 = data1.append(temp_df)\n",
      "C:\\Users\\praty\\AppData\\Local\\Temp\\ipykernel_14384\\3786811289.py:16: FutureWarning: The frame.append method is deprecated and will be removed from pandas in a future version. Use pandas.concat instead.\n",
      "  data1 = data1.append(temp_df)\n",
      "C:\\Users\\praty\\AppData\\Local\\Temp\\ipykernel_14384\\3786811289.py:16: FutureWarning: The frame.append method is deprecated and will be removed from pandas in a future version. Use pandas.concat instead.\n",
      "  data1 = data1.append(temp_df)\n",
      "C:\\Users\\praty\\AppData\\Local\\Temp\\ipykernel_14384\\3786811289.py:16: FutureWarning: The frame.append method is deprecated and will be removed from pandas in a future version. Use pandas.concat instead.\n",
      "  data1 = data1.append(temp_df)\n",
      "C:\\Users\\praty\\AppData\\Local\\Temp\\ipykernel_14384\\3786811289.py:16: FutureWarning: The frame.append method is deprecated and will be removed from pandas in a future version. Use pandas.concat instead.\n",
      "  data1 = data1.append(temp_df)\n",
      "C:\\Users\\praty\\AppData\\Local\\Temp\\ipykernel_14384\\3786811289.py:16: FutureWarning: The frame.append method is deprecated and will be removed from pandas in a future version. Use pandas.concat instead.\n",
      "  data1 = data1.append(temp_df)\n",
      "C:\\Users\\praty\\AppData\\Local\\Temp\\ipykernel_14384\\3786811289.py:16: FutureWarning: The frame.append method is deprecated and will be removed from pandas in a future version. Use pandas.concat instead.\n",
      "  data1 = data1.append(temp_df)\n",
      "C:\\Users\\praty\\AppData\\Local\\Temp\\ipykernel_14384\\3786811289.py:16: FutureWarning: The frame.append method is deprecated and will be removed from pandas in a future version. Use pandas.concat instead.\n",
      "  data1 = data1.append(temp_df)\n",
      "C:\\Users\\praty\\AppData\\Local\\Temp\\ipykernel_14384\\3786811289.py:16: FutureWarning: The frame.append method is deprecated and will be removed from pandas in a future version. Use pandas.concat instead.\n",
      "  data1 = data1.append(temp_df)\n",
      "C:\\Users\\praty\\AppData\\Local\\Temp\\ipykernel_14384\\3786811289.py:16: FutureWarning: The frame.append method is deprecated and will be removed from pandas in a future version. Use pandas.concat instead.\n",
      "  data1 = data1.append(temp_df)\n",
      "C:\\Users\\praty\\AppData\\Local\\Temp\\ipykernel_14384\\3786811289.py:16: FutureWarning: The frame.append method is deprecated and will be removed from pandas in a future version. Use pandas.concat instead.\n",
      "  data1 = data1.append(temp_df)\n",
      "C:\\Users\\praty\\AppData\\Local\\Temp\\ipykernel_14384\\3786811289.py:16: FutureWarning: The frame.append method is deprecated and will be removed from pandas in a future version. Use pandas.concat instead.\n",
      "  data1 = data1.append(temp_df)\n",
      "C:\\Users\\praty\\AppData\\Local\\Temp\\ipykernel_14384\\3786811289.py:16: FutureWarning: The frame.append method is deprecated and will be removed from pandas in a future version. Use pandas.concat instead.\n",
      "  data1 = data1.append(temp_df)\n",
      "C:\\Users\\praty\\AppData\\Local\\Temp\\ipykernel_14384\\3786811289.py:16: FutureWarning: The frame.append method is deprecated and will be removed from pandas in a future version. Use pandas.concat instead.\n",
      "  data1 = data1.append(temp_df)\n",
      "C:\\Users\\praty\\AppData\\Local\\Temp\\ipykernel_14384\\3786811289.py:16: FutureWarning: The frame.append method is deprecated and will be removed from pandas in a future version. Use pandas.concat instead.\n",
      "  data1 = data1.append(temp_df)\n",
      "C:\\Users\\praty\\AppData\\Local\\Temp\\ipykernel_14384\\3786811289.py:16: FutureWarning: The frame.append method is deprecated and will be removed from pandas in a future version. Use pandas.concat instead.\n",
      "  data1 = data1.append(temp_df)\n",
      "C:\\Users\\praty\\AppData\\Local\\Temp\\ipykernel_14384\\3786811289.py:16: FutureWarning: The frame.append method is deprecated and will be removed from pandas in a future version. Use pandas.concat instead.\n",
      "  data1 = data1.append(temp_df)\n",
      "C:\\Users\\praty\\AppData\\Local\\Temp\\ipykernel_14384\\3786811289.py:16: FutureWarning: The frame.append method is deprecated and will be removed from pandas in a future version. Use pandas.concat instead.\n",
      "  data1 = data1.append(temp_df)\n",
      "C:\\Users\\praty\\AppData\\Local\\Temp\\ipykernel_14384\\3786811289.py:16: FutureWarning: The frame.append method is deprecated and will be removed from pandas in a future version. Use pandas.concat instead.\n",
      "  data1 = data1.append(temp_df)\n",
      "C:\\Users\\praty\\AppData\\Local\\Temp\\ipykernel_14384\\3786811289.py:16: FutureWarning: The frame.append method is deprecated and will be removed from pandas in a future version. Use pandas.concat instead.\n",
      "  data1 = data1.append(temp_df)\n",
      "C:\\Users\\praty\\AppData\\Local\\Temp\\ipykernel_14384\\3786811289.py:16: FutureWarning: The frame.append method is deprecated and will be removed from pandas in a future version. Use pandas.concat instead.\n",
      "  data1 = data1.append(temp_df)\n",
      "C:\\Users\\praty\\AppData\\Local\\Temp\\ipykernel_14384\\3786811289.py:16: FutureWarning: The frame.append method is deprecated and will be removed from pandas in a future version. Use pandas.concat instead.\n",
      "  data1 = data1.append(temp_df)\n",
      "C:\\Users\\praty\\AppData\\Local\\Temp\\ipykernel_14384\\3786811289.py:16: FutureWarning: The frame.append method is deprecated and will be removed from pandas in a future version. Use pandas.concat instead.\n",
      "  data1 = data1.append(temp_df)\n",
      "C:\\Users\\praty\\AppData\\Local\\Temp\\ipykernel_14384\\3786811289.py:16: FutureWarning: The frame.append method is deprecated and will be removed from pandas in a future version. Use pandas.concat instead.\n",
      "  data1 = data1.append(temp_df)\n",
      "C:\\Users\\praty\\AppData\\Local\\Temp\\ipykernel_14384\\3786811289.py:16: FutureWarning: The frame.append method is deprecated and will be removed from pandas in a future version. Use pandas.concat instead.\n",
      "  data1 = data1.append(temp_df)\n"
     ]
    },
    {
     "ename": "KeyboardInterrupt",
     "evalue": "",
     "output_type": "error",
     "traceback": [
      "\u001b[1;31m---------------------------------------------------------------------------\u001b[0m",
      "\u001b[1;31mKeyboardInterrupt\u001b[0m                         Traceback (most recent call last)",
      "Input \u001b[1;32mIn [11]\u001b[0m, in \u001b[0;36m<cell line: 1>\u001b[1;34m()\u001b[0m\n\u001b[1;32m----> 1\u001b[0m data_final \u001b[38;5;241m=\u001b[39m \u001b[43mfetch\u001b[49m\u001b[43m(\u001b[49m\u001b[43msymbol\u001b[49m\u001b[43m,\u001b[49m\u001b[43m \u001b[49m\u001b[43mkline_size\u001b[49m\u001b[43m)\u001b[49m\n",
      "Input \u001b[1;32mIn [8]\u001b[0m, in \u001b[0;36mfetch\u001b[1;34m(symbol, kline_size, save)\u001b[0m\n\u001b[0;32m     10\u001b[0m \u001b[38;5;28mprint\u001b[39m(\u001b[38;5;124m'\u001b[39m\u001b[38;5;124mDownloading \u001b[39m\u001b[38;5;132;01m%d\u001b[39;00m\u001b[38;5;124m minutes of new data available for \u001b[39m\u001b[38;5;132;01m%s\u001b[39;00m\u001b[38;5;124m, i.e. \u001b[39m\u001b[38;5;132;01m%d\u001b[39;00m\u001b[38;5;124m instances of \u001b[39m\u001b[38;5;132;01m%s\u001b[39;00m\u001b[38;5;124m data in \u001b[39m\u001b[38;5;132;01m%d\u001b[39;00m\u001b[38;5;124m rounds.\u001b[39m\u001b[38;5;124m'\u001b[39m \u001b[38;5;241m%\u001b[39m (delta_min, symbol, available_data, kline_size, rounds))\n\u001b[0;32m     11\u001b[0m \u001b[38;5;28;01mfor\u001b[39;00m round_num \u001b[38;5;129;01min\u001b[39;00m tqdm_notebook(\u001b[38;5;28mrange\u001b[39m(rounds)):\n\u001b[1;32m---> 12\u001b[0m     \u001b[43mtime\u001b[49m\u001b[38;5;241;43m.\u001b[39;49m\u001b[43msleep\u001b[49m\u001b[43m(\u001b[49m\u001b[38;5;241;43m1\u001b[39;49m\u001b[43m)\u001b[49m\n\u001b[0;32m     13\u001b[0m     new_time \u001b[38;5;241m=\u001b[39m (oldest_point \u001b[38;5;241m+\u001b[39m timedelta(minutes \u001b[38;5;241m=\u001b[39m round_num \u001b[38;5;241m*\u001b[39m batch_size \u001b[38;5;241m*\u001b[39m bin_length[kline_size]))\n\u001b[0;32m     14\u001b[0m     data \u001b[38;5;241m=\u001b[39m client\u001b[38;5;241m.\u001b[39mTrade\u001b[38;5;241m.\u001b[39mTrade_getBucketed(symbol\u001b[38;5;241m=\u001b[39msymbol, binSize\u001b[38;5;241m=\u001b[39mkline_size, count\u001b[38;5;241m=\u001b[39mbatch_size, startTime \u001b[38;5;241m=\u001b[39m new_time)\u001b[38;5;241m.\u001b[39mresult()[\u001b[38;5;241m0\u001b[39m]\n",
      "\u001b[1;31mKeyboardInterrupt\u001b[0m: "
     ]
    }
   ],
   "source": [
    "\n",
    "data_final = fetch(symbol, kline_size)"
   ]
  },
  {
   "cell_type": "code",
   "execution_count": 12,
   "id": "5f01ae45",
   "metadata": {},
   "outputs": [
    {
     "ename": "NameError",
     "evalue": "name 'data_final' is not defined",
     "output_type": "error",
     "traceback": [
      "\u001b[1;31m---------------------------------------------------------------------------\u001b[0m",
      "\u001b[1;31mNameError\u001b[0m                                 Traceback (most recent call last)",
      "Input \u001b[1;32mIn [12]\u001b[0m, in \u001b[0;36m<cell line: 1>\u001b[1;34m()\u001b[0m\n\u001b[1;32m----> 1\u001b[0m \u001b[43mdata_final\u001b[49m\n",
      "\u001b[1;31mNameError\u001b[0m: name 'data_final' is not defined"
     ]
    }
   ],
   "source": []
  },
  {
   "cell_type": "code",
   "execution_count": null,
   "id": "36be4f68",
   "metadata": {},
   "outputs": [],
   "source": []
  }
 ],
 "metadata": {
  "kernelspec": {
   "display_name": "Python 3 (ipykernel)",
   "language": "python",
   "name": "python3"
  },
  "language_info": {
   "codemirror_mode": {
    "name": "ipython",
    "version": 3
   },
   "file_extension": ".py",
   "mimetype": "text/x-python",
   "name": "python",
   "nbconvert_exporter": "python",
   "pygments_lexer": "ipython3",
   "version": "3.10.5"
  }
 },
 "nbformat": 4,
 "nbformat_minor": 5
}
